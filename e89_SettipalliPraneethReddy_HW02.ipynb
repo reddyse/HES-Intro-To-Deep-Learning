{
 "cells": [
  {
   "cell_type": "code",
   "execution_count": 4,
   "id": "638679ac",
   "metadata": {},
   "outputs": [],
   "source": [
    "import numpy as np\n",
    "#from sklearn import datasets\n",
    "#from mpl_toolkits.mplot3d import Axes3D\n",
    "#import tensorflow.compat.v1 as tf\n",
    "from matplotlib import cm\n",
    "import tensorflow as tf\n",
    "import matplotlib\n",
    "import matplotlib.pyplot as plt\n",
    "%matplotlib inline  "
   ]
  },
  {
   "cell_type": "code",
   "execution_count": 5,
   "id": "9178dd37",
   "metadata": {},
   "outputs": [
    {
     "name": "stdout",
     "output_type": "stream",
     "text": [
      "tf.Tensor(24.0, shape=(), dtype=float32)\n",
      "tf.Tensor(3.0, shape=(), dtype=float32)\n",
      "tf.Tensor(-1.0, shape=(), dtype=float32)\n",
      "tf.Tensor(27.0, shape=(), dtype=float32)\n"
     ]
    }
   ],
   "source": [
    "#Problem 2\n",
    "#f= f(x,y,z) = x*y + z*3 + x\n",
    "x = tf.constant(-1.0)\n",
    "y = tf.constant(2.0)\n",
    "z = tf.constant(3.0)\n",
    "    \n",
    "def myFunction(x,y,z):\n",
    "    f = x*y + z**3 + x\n",
    "    return f;\n",
    "\n",
    "myFunction(x,y,z)\n",
    "\n",
    "with tf.GradientTape(persistent=True) as tape:\n",
    "    tape.watch(x)\n",
    "    tape.watch(y)\n",
    "    tape.watch(z)\n",
    "    f = myFunction(x,y,z)\n",
    "    print(f)\n",
    "    g_x = tape.gradient(f,x) #g_x = df/dx\n",
    "    print(g_x)\n",
    "    h_x = tape.gradient(f,y) #h_x = df/dy\n",
    "    print(h_x)\n",
    "    i_x = tape.gradient(f,z) #i_x = df/dz\n",
    "    print(i_x)\n",
    "\n",
    "#Below outut suing GradientTape matches with the output from Problem1 "
   ]
  },
  {
   "cell_type": "code",
   "execution_count": 6,
   "id": "c7664d5a",
   "metadata": {},
   "outputs": [
    {
     "name": "stdout",
     "output_type": "stream",
     "text": [
      "tf.Tensor(3.1192029, shape=(), dtype=float32)\n",
      "WARNING:tensorflow:Calling GradientTape.gradient on a persistent tape inside its context is significantly less efficient than calling it outside the context (it causes the gradient ops to be recorded on the tape, leading to increased CPU and memory usage). Only call GradientTape.gradient inside the context if you actually want to trace the gradient in order to compute higher order derivatives.\n",
      "tf.Tensor(1.0, shape=(), dtype=float32)\n",
      "WARNING:tensorflow:Calling GradientTape.gradient on a persistent tape inside its context is significantly less efficient than calling it outside the context (it causes the gradient ops to be recorded on the tape, leading to increased CPU and memory usage). Only call GradientTape.gradient inside the context if you actually want to trace the gradient in order to compute higher order derivatives.\n",
      "tf.Tensor(-2.0, shape=(), dtype=float32)\n"
     ]
    }
   ],
   "source": [
    "#Problem 3\n",
    "#Create a computational graph for f = x + sig(xy) + y^2\n",
    "# sig(q) = 1/(1+e^-q)\n",
    "x = tf.constant(2.0)\n",
    "y = tf.constant(-1.0)\n",
    "\n",
    "def sigmoid(q):\n",
    "    return 1/(1+np.exp(-q))\n",
    "    \n",
    "def myFunction(x,y):\n",
    "    f = x + sigmoid(x*y)+ y**2\n",
    "    return f;\n",
    "\n",
    "myFunction(x,y)\n",
    "\n",
    "with tf.GradientTape(persistent=True) as tape:\n",
    "    tape.watch(x)\n",
    "    tape.watch(y)\n",
    "    f = myFunction(x,y)\n",
    "    print(f)\n",
    "    g_x = tape.gradient(f,x) #g_x = df/dx\n",
    "    print(g_x)\n",
    "    h_x = tape.gradient(f,y) #h_x = df/dy\n",
    "    print(h_x)\n",
    "\n",
    "#Below outut suing GradientTape matches with the output from Problem 3"
   ]
  },
  {
   "cell_type": "code",
   "execution_count": 44,
   "id": "c412265b",
   "metadata": {},
   "outputs": [],
   "source": [
    "#Problem 4\n",
    "# we will take 200 samples\n",
    "n_samples = 200\n",
    "\n",
    "# `m` and `c` are coefficient and bias to get the initial `y`\n",
    "m = 0.1\n",
    "c = -1.0\n",
    "mean = 0.0 # mean of the training data distribution to create\n",
    "std = 0.2 # standard deviation of the of the training data distribution to create\n",
    "\n",
    "# number of training epochs \n",
    "num_epochs = 199\n",
    "# learning rate\n",
    "learning_rate = 0.001\n",
    "\n",
    "# Create synthetic data of size 200\n",
    "def create_dataset(n_samples, m, c):\n",
    "    # create the sample dataset\n",
    "    x = np.random.randint(0, 10, n_samples)\n",
    "    random_noise = np.random.normal(mean, std, n_samples) # Adding Gaussian noise of std dev 0.2\n",
    "    y = m*x + c + random_noise\n",
    "    x_train, y_train = x[:180], y[:180]\n",
    "    x_test, y_test = x[180:], y[180:]\n",
    "    return x_train, y_train, x_test, y_test"
   ]
  },
  {
   "cell_type": "code",
   "execution_count": 45,
   "id": "5b0fe556",
   "metadata": {},
   "outputs": [
    {
     "name": "stdout",
     "output_type": "stream",
     "text": [
      "Training samples: 180\n",
      "Test samples: 20\n"
     ]
    },
    {
     "data": {
      "image/png": "[encoded data removed]",
      "text/plain": [
       "<Figure size 864x648 with 1 Axes>"
      ]
     },
     "metadata": {
      "needs_background": "light"
     },
     "output_type": "display_data"
    }
   ],
   "source": [
    "x_train, y_train, x_test, y_test = create_dataset(n_samples, m, c)\n",
    "print(f\"Training samples: {len(x_train)}\")\n",
    "print(f\"Test samples: {len(x_test)}\")\n",
    "plt.figure(figsize=(12, 9))\n",
    "plt.scatter(x_train, y_train)\n",
    "plt.xlabel('x_train')\n",
    "plt.ylabel('y_train')\n",
    "plt.title('Training data distribution')\n",
    "plt.savefig('training_data.jpg')"
   ]
  },
  {
   "cell_type": "code",
   "execution_count": 46,
   "id": "fedec6db",
   "metadata": {},
   "outputs": [
    {
     "name": "stdout",
     "output_type": "stream",
     "text": [
      "<tf.Variable 'Variable:0' shape=() dtype=float32, numpy=-0.1488853>\n",
      "<tf.Variable 'Variable:0' shape=() dtype=float32, numpy=0.24875848>\n"
     ]
    }
   ],
   "source": [
    "# random initial values for weights\n",
    "W = tf.Variable(np.random.randn())\n",
    "B = tf.Variable(np.random.randn())\n",
    "print(W)\n",
    "print(B)"
   ]
  },
  {
   "cell_type": "code",
   "execution_count": 47,
   "id": "bd4be099",
   "metadata": {},
   "outputs": [],
   "source": [
    "def pred(x, W, B):\n",
    "    #calculate y_hat = m*x + c with learned weights and biases.\n",
    "    #y_pred is the prediction\n",
    "    \n",
    "    y_pred = W*x + B\n",
    "    return y_pred\n",
    "\n",
    "#Mean squared error loss function\n",
    "def loss_function(x, y, W, B):\n",
    "    prediction = pred(x, W, B)\n",
    "    squared_error = tf.square(prediction - y)\n",
    "    # calculate the MSE (Mean Sqaured Error)\n",
    "    mse = tf.reduce_mean(squared_error)\n",
    "    return mse\n",
    "\n",
    "#Calculate the derivative of the loss\n",
    "def calculate_gradient(x, y, W, B):\n",
    "    with tf.GradientTape() as tape:\n",
    "        loss_value = loss_function(x, y, W, B)\n",
    "        \n",
    "    w_grad, b_grad = tape.gradient(loss_value, [W, B])\n",
    "    return w_grad, b_grad"
   ]
  },
  {
   "cell_type": "code",
   "execution_count": 48,
   "id": "2fdc1302",
   "metadata": {},
   "outputs": [
    {
     "name": "stdout",
     "output_type": "stream",
     "text": [
      "Epoch: 0, loss 0.541\n",
      "Epoch: 10, loss 0.492\n",
      "Epoch: 20, loss 0.475\n",
      "Epoch: 30, loss 0.467\n",
      "Epoch: 40, loss 0.461\n",
      "Epoch: 50, loss 0.457\n",
      "Epoch: 60, loss 0.452\n",
      "Epoch: 70, loss 0.448\n",
      "Epoch: 80, loss 0.444\n",
      "Epoch: 90, loss 0.440\n",
      "Epoch: 100, loss 0.435\n",
      "Epoch: 110, loss 0.431\n",
      "Epoch: 120, loss 0.427\n",
      "Epoch: 130, loss 0.423\n",
      "Epoch: 140, loss 0.419\n",
      "Epoch: 150, loss 0.415\n",
      "Epoch: 160, loss 0.412\n",
      "Epoch: 170, loss 0.408\n",
      "Epoch: 180, loss 0.404\n",
      "Epoch: 190, loss 0.400\n"
     ]
    }
   ],
   "source": [
    "for epoch in range(num_epochs):\n",
    "    w_grad, b_grad = calculate_gradient(x_train, y_train, W, B)   \n",
    "    dW, dB = w_grad * learning_rate, b_grad * learning_rate\n",
    "    W.assign_sub(dW)\n",
    "    B.assign_sub(dB)\n",
    "    \n",
    "    if epoch % 10 == 0:\n",
    "        print(f\"Epoch: {epoch}, loss {loss(x_train, y_train, W, B):.3f}\")"
   ]
  },
  {
   "cell_type": "code",
   "execution_count": 49,
   "id": "e5625799",
   "metadata": {},
   "outputs": [
    {
     "name": "stdout",
     "output_type": "stream",
     "text": [
      "Learned W: -0.08092311024665833, learned B: 0.13026192784309387\n"
     ]
    }
   ],
   "source": [
    "# check whether if we have desired `m` and `c` or not\n",
    "print(f\"Learned W: {W.numpy()}, learned B: {B.numpy()}\")"
   ]
  },
  {
   "cell_type": "code",
   "execution_count": 50,
   "id": "3a002321",
   "metadata": {},
   "outputs": [
    {
     "data": {
      "image/png": "[encoded data removed]",
      "text/plain": [
       "<Figure size 864x648 with 1 Axes>"
      ]
     },
     "metadata": {
      "needs_background": "light"
     },
     "output_type": "display_data"
    }
   ],
   "source": [
    "# plot the test set\n",
    "plt.figure(figsize=(12, 9))\n",
    "plt.scatter(x_test, y_test)\n",
    "plt.xlabel('x_test')\n",
    "plt.ylabel('y_test')\n",
    "plt.title('Test data distribution')\n",
    "plt.savefig('test_data.jpg')"
   ]
  },
  {
   "cell_type": "code",
   "execution_count": 51,
   "id": "4572651d",
   "metadata": {},
   "outputs": [
    {
     "name": "stdout",
     "output_type": "stream",
     "text": [
      "Test loss: 0.407\n"
     ]
    }
   ],
   "source": [
    "test_loss = loss(x_test, y_test, W, B)\n",
    "print(f\"Test loss: {test_loss:.3f}\")"
   ]
  },
  {
   "cell_type": "code",
   "execution_count": 33,
   "id": "66326708",
   "metadata": {},
   "outputs": [
    {
     "data": {
      "text/plain": [
       "Text(0.5, 1.0, 'Test data distribution and predicted y plot')"
      ]
     },
     "execution_count": 33,
     "metadata": {},
     "output_type": "execute_result"
    },
    {
     "data": {
      "image/png": "[encoded data removed]",
      "text/plain": [
       "<Figure size 864x648 with 1 Axes>"
      ]
     },
     "metadata": {
      "needs_background": "light"
     },
     "output_type": "display_data"
    }
   ],
   "source": [
    "# predicted y on on the test set\n",
    "y_test_predicted = W.numpy()*x_test + B.numpy()\n",
    "# plot the predicted y values on the test data distribution\n",
    "plt.figure(figsize=(12, 9))\n",
    "plt.plot(x_test, y_test_predicted, c='red')\n",
    "plt.scatter(x_test, y_test)\n",
    "plt.xlabel('x_test')\n",
    "plt.ylabel('y_test')\n",
    "plt.title('Test data distribution and predicted y plot')"
   ]
  },
  {
   "cell_type": "code",
   "execution_count": null,
   "id": "ff72ff13",
   "metadata": {},
   "outputs": [],
   "source": []
  },
  {
   "cell_type": "code",
   "execution_count": null,
   "id": "a051819d",
   "metadata": {},
   "outputs": [],
   "source": []
  }
 ],
 "metadata": {
  "kernelspec": {
   "display_name": "Python 3 (ipykernel)",
   "language": "python",
   "name": "python3"
  },
  "language_info": {
   "codemirror_mode": {
    "name": "ipython",
    "version": 3
   },
   "file_extension": ".py",
   "mimetype": "text/x-python",
   "name": "python",
   "nbconvert_exporter": "python",
   "pygments_lexer": "ipython3",
   "version": "3.9.7"
  }
 },
 "nbformat": 4,
 "nbformat_minor": 5
}
